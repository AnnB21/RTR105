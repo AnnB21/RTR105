{
 "cells": [
  {
   "cell_type": "markdown",
   "metadata": {},
   "source": [
    "# Saknes meklēšana ar dihotomijas metodi."
   ]
  },
  {
   "cell_type": "code",
   "execution_count": null,
   "metadata": {},
   "outputs": [],
   "source": [
    "#Fails: 170.py\n",
    "# Autors: Anna Bogačova\n",
    "# Apliecibas numurs: 181REB372\n",
    "# Datums: 03/12/2018\n",
    "# Sagatave funkcijas saknes meklesanai ar dihatonijas metodi\n",
    "\n",
    "# -*- coding: utf-8 -*-\n",
    "from math import sin, fabs\n",
    "from time import sleep\n",
    "\n",
    "def f(x):\n",
    "    return sin(x)*sin(x)\n",
    "\n",
    "# Definejam argumenta x robežas:\n",
    "a = input(\" Izveleties intervala sakumu: a =  \")\n",
    "b = input(\" Izveleties intervala beigu: b =  \")\n",
    "\n",
    "# Aprekinajam funkcijas vertibas dotajos punktos:\n",
    "funa = f(a)\n",
    "funb = f(b)\n",
    "\n",
    "# Parbaudam, vai dotajā intervalā ir saknes:\n",
    "if (funa * funb > 0.0):\n",
    "    print (\"Dotajā intervālā [%s, %s] sakņu nav\")%(a,b)\n",
    "    sleep(1); exit() # Ziņo uz ekrana, gaida 1 sec. un darbu pabeidz\n",
    "else:\n",
    "    print (\"Dotajā intervālā sakne(s) ir!\")\n",
    "\n",
    "# Definejam precizitati, ar kadu meklesim sakni:\n",
    "detlax = 0.0001\n",
    "k = 0\n",
    "\n",
    "# Sašaurinam saknes meklēšanas robežas:\n",
    "while (fabs(b-a) > detlax ):\n",
    "    k = k+1\n",
    "    x = (a+b)/2; funx = f(x)\n",
    "    if ( funa*funx < 0. ):\n",
    "        b = x\n",
    "    else:\n",
    "        a = x\n",
    "#Funkcijas saknes vertiba ir x\n",
    "#Dotas funkcijas vertiba šjā punktā ir: f(x)\n",
    "#Nepieciešamo iterāciju skaits intervālu dalīšanai uz pusēm: k\n",
    "print (\"x = \", x, \"f(x) = \", f(x), \"k = \", k)"
   ]
  }
 ],
 "metadata": {
  "kernelspec": {
   "display_name": "Python 3",
   "language": "python",
   "name": "python3"
  },
  "language_info": {
   "codemirror_mode": {
    "name": "ipython",
    "version": 3
   },
   "file_extension": ".py",
   "mimetype": "text/x-python",
   "name": "python",
   "nbconvert_exporter": "python",
   "pygments_lexer": "ipython3",
   "version": "3.7.1"
  }
 },
 "nbformat": 4,
 "nbformat_minor": 2
}
