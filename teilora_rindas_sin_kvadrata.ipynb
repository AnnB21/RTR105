{
 "cells": [
  {
   "cell_type": "markdown",
   "metadata": {},
   "source": [
    "Teilora rindas."
   ]
  },
  {
   "cell_type": "code",
   "execution_count": null,
   "metadata": {},
   "outputs": [],
   "source": [
    "# -*- coding: utf-8 -*-\n",
    "from math import sin\n",
    "\n",
    "def mans_sinuss(x):\n",
    "    k = 0\n",
    "    a = (-1)**2*x**2*2**1/(2)\n",
    "    S = a\n",
    "    print(\"Izdruka no liet.f. a0 = %6.2f S0 = %6.2f\"%(a,S))\n",
    "\n",
    "    while k < 500:\n",
    "       k = k+1\n",
    "       R = (-1)*x*x/((2*k)*(2*k-1))\n",
    "       a = a*R\n",
    "       S = S+a\n",
    "       if k==499:\n",
    "\n",
    "           print(\"Izdruka no liet.f. a499 = %6.2f S499 = %6.2f\"%(a,S))\n",
    "    print (\"Izdruka no liet.f. a500 = %6.2f S500 = %6.2f\"%(a,S))      \n",
    "\n",
    "    print(\"Izdruka no liet.f. Beigas!\")    \n",
    "    return S\n",
    "\n",
    "x = float(input(\"Lietotāj, lūdzu, ievadi argumentu (x): \"))\n",
    "y= sin(x)*sin(x)\n",
    "print(\"standarta sin**2(%.2f) = %6.2f\"%(x,y))\n",
    "\n",
    "c = u\"\\u221E\"\n",
    "yy = mans_sinuss(x)\n",
    "print(\"mans sin**2(%.2f) = %6.2f\"%(x,yy))\n",
    "print(\"             500\")\n",
    "print(\"            ____\")\n",
    "print(\"            \\           k    2*k   2*k-1\")\n",
    "print(\"             \\      (-1)  * x   * 2\")\n",
    "print(\"sin^2(%.2f))=>    _________________          , kur -%s <x< %s \"%(x,c,c))\n",
    "print(\"             /\")\n",
    "print(\"            /____      (2*k)!\")\n",
    "print(\"             k=1\")\n",
    "print(\" \")\n",
    "print(\" \")\n",
    "print(\"                                                   2\")\n",
    "print(\"                                             (-1)*x\")\n",
    "print(\"rekurences reizinātajs                    _____________\")\n",
    "print(\"                                           2*k*(2*k-1)\")\n",
    "\n"
   ]
  }
 ],
 "metadata": {
  "kernelspec": {
   "display_name": "Python 3",
   "language": "python",
   "name": "python3"
  },
  "language_info": {
   "codemirror_mode": {
    "name": "ipython",
    "version": 3
   },
   "file_extension": ".py",
   "mimetype": "text/x-python",
   "name": "python",
   "nbconvert_exporter": "python",
   "pygments_lexer": "ipython3",
   "version": "3.7.1"
  }
 },
 "nbformat": 4,
 "nbformat_minor": 2
}
